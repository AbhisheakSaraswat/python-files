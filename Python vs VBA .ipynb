{
 "cells": [
  {
   "cell_type": "code",
   "execution_count": 2,
   "metadata": {},
   "outputs": [],
   "source": [
    "import xlwings as xw\n",
    "import time\n",
    "import numpy as np\n",
    "import pandas as pd"
   ]
  },
  {
   "cell_type": "code",
   "execution_count": 3,
   "metadata": {},
   "outputs": [
    {
     "name": "stdout",
     "output_type": "stream",
     "text": [
      "0.3325185775756836\n"
     ]
    }
   ],
   "source": [
    "start = time.time()\n",
    "wb = xw.Book(r\"C:\\Users\\AEPAC\\Desktop\\VBA Performance.xlsm\")\n",
    "sht = wb.sheets['Sheet1']\n",
    "arr = np.zeros(shape=(10,100))\n",
    "for i in range(1,11):\n",
    "    for j in range(1,101):\n",
    "        arr[i-1][j-1] = i * j\n",
    "sht.range(\"A1\").options(expand='table').value = arr\n",
    "end = time.time()\n",
    "print(end-start)"
   ]
  },
  {
   "cell_type": "code",
   "execution_count": 4,
   "metadata": {},
   "outputs": [
    {
     "name": "stdout",
     "output_type": "stream",
     "text": [
      "Wall time: 655 ms\n"
     ]
    }
   ],
   "source": [
    "%%time\n",
    "pth = r\"C:\\Users\\AEPAC\\Desktop\\test\"\n",
    "sales = pd.read_csv(r\"C:\\Users\\AEPAC\\Desktop\\Sales Data.csv\")\n",
    "for st in sales[\"State\"].unique():\n",
    "    df = sales[sales[\"State\"] == st]\n",
    "    df.to_csv(pth + \"\\\\\" + st + \".csv\",index=False)"
   ]
  },
  {
   "cell_type": "code",
   "execution_count": null,
   "metadata": {},
   "outputs": [],
   "source": []
  }
 ],
 "metadata": {
  "kernelspec": {
   "display_name": "Python 3",
   "language": "python",
   "name": "python3"
  },
  "language_info": {
   "codemirror_mode": {
    "name": "ipython",
    "version": 3
   },
   "file_extension": ".py",
   "mimetype": "text/x-python",
   "name": "python",
   "nbconvert_exporter": "python",
   "pygments_lexer": "ipython3",
   "version": "3.8.5"
  }
 },
 "nbformat": 4,
 "nbformat_minor": 4
}
