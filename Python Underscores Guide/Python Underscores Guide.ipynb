{
 "cells": [
  {
   "cell_type": "markdown",
   "id": "2410ce31",
   "metadata": {},
   "source": [
    "## Python Underscores Guide"
   ]
  },
  {
   "cell_type": "markdown",
   "id": "c754e2f2",
   "metadata": {},
   "source": [
    "### Single Underscore"
   ]
  },
  {
   "cell_type": "code",
   "execution_count": 1,
   "id": "4741313b",
   "metadata": {},
   "outputs": [
    {
     "data": {
      "text/plain": [
       "4"
      ]
     },
     "execution_count": 1,
     "metadata": {},
     "output_type": "execute_result"
    }
   ],
   "source": [
    "5 - 1"
   ]
  },
  {
   "cell_type": "code",
   "execution_count": 3,
   "id": "001186cd",
   "metadata": {},
   "outputs": [
    {
     "data": {
      "text/plain": [
       "100"
      ]
     },
     "execution_count": 3,
     "metadata": {},
     "output_type": "execute_result"
    }
   ],
   "source": [
    "_ * 5"
   ]
  },
  {
   "cell_type": "markdown",
   "id": "52e6dd97",
   "metadata": {},
   "source": [
    "### Using _ to ignore specific values"
   ]
  },
  {
   "cell_type": "code",
   "execution_count": 4,
   "id": "dcd5d484",
   "metadata": {},
   "outputs": [],
   "source": [
    "x, _, z = 10, 20, 30"
   ]
  },
  {
   "cell_type": "code",
   "execution_count": 5,
   "id": "b43bff34",
   "metadata": {},
   "outputs": [
    {
     "name": "stdout",
     "output_type": "stream",
     "text": [
      "10\n",
      "30\n"
     ]
    }
   ],
   "source": [
    "print(x)\n",
    "print(z)"
   ]
  },
  {
   "cell_type": "markdown",
   "id": "0a8ff286",
   "metadata": {},
   "source": [
    "## Function and Variable Names with a Single Underscore"
   ]
  },
  {
   "cell_type": "code",
   "execution_count": 7,
   "id": "6b7ac646",
   "metadata": {},
   "outputs": [
    {
     "name": "stdout",
     "output_type": "stream",
     "text": [
      "Python Python Python Python Python "
     ]
    }
   ],
   "source": [
    "for _ in range(5):\n",
    "    print(\"Python\", end = \" \")"
   ]
  },
  {
   "cell_type": "markdown",
   "id": "a66cb0cd",
   "metadata": {},
   "source": [
    "### Combined Use in List Comprehensions"
   ]
  },
  {
   "cell_type": "code",
   "execution_count": 8,
   "id": "ae5280e5",
   "metadata": {},
   "outputs": [
    {
     "data": {
      "text/plain": [
       "[None, None, None, None, None]"
      ]
     },
     "execution_count": 8,
     "metadata": {},
     "output_type": "execute_result"
    }
   ],
   "source": [
    "none_list = [None for _ in range(5)]\n",
    "none_list"
   ]
  },
  {
   "cell_type": "markdown",
   "id": "841ed834",
   "metadata": {},
   "source": [
    "### Placeholder for Unused Parameters"
   ]
  },
  {
   "cell_type": "code",
   "execution_count": 10,
   "id": "94a4c8c6",
   "metadata": {},
   "outputs": [
    {
     "data": {
      "text/plain": [
       "4"
      ]
     },
     "execution_count": 10,
     "metadata": {},
     "output_type": "execute_result"
    }
   ],
   "source": [
    "def func(x,_,z):\n",
    "    return x + z\n",
    "func(1,2,3)"
   ]
  },
  {
   "cell_type": "markdown",
   "id": "86f99f51",
   "metadata": {},
   "source": [
    "# Single Leading Underscore (_var)"
   ]
  },
  {
   "cell_type": "code",
   "execution_count": 11,
   "id": "e185c54f",
   "metadata": {},
   "outputs": [
    {
     "name": "stdout",
     "output_type": "stream",
     "text": [
      "42\n"
     ]
    }
   ],
   "source": [
    "class myClass:\n",
    "    def __init__(self):\n",
    "        self._interval_var = 42\n",
    "        \n",
    "obj = myClass()\n",
    "print(obj._interval_var)"
   ]
  },
  {
   "cell_type": "markdown",
   "id": "e624fbc6",
   "metadata": {},
   "source": [
    "# Double Leading Underscore (__var)"
   ]
  },
  {
   "cell_type": "code",
   "execution_count": 12,
   "id": "a6b9970f",
   "metadata": {},
   "outputs": [
    {
     "name": "stdout",
     "output_type": "stream",
     "text": [
      "42\n",
      "99\n"
     ]
    }
   ],
   "source": [
    "class Base:\n",
    "    def __init__(self):\n",
    "        self.__private_var = 42\n",
    "        \n",
    "class Derived(Base):\n",
    "    def __init__(self):\n",
    "        super().__init__()\n",
    "        self.__private_var = 99\n",
    "        \n",
    "base_obj = Base()\n",
    "derived_obj = Derived()\n",
    "\n",
    "print(base_obj._Base__private_var)\n",
    "print(derived_obj._Derived__private_var)"
   ]
  },
  {
   "cell_type": "markdown",
   "id": "14db2386",
   "metadata": {},
   "source": [
    "# Double Leading and Trailing Underscore (__var__)"
   ]
  },
  {
   "cell_type": "code",
   "execution_count": 13,
   "id": "3b2f8247",
   "metadata": {},
   "outputs": [
    {
     "name": "stdout",
     "output_type": "stream",
     "text": [
      "MyClass with value 40\n"
     ]
    }
   ],
   "source": [
    "class MyClass:\n",
    "    def __init__(self, value):\n",
    "        self.value = value\n",
    "        \n",
    "    def __str__(self):\n",
    "        return f\"MyClass with value {self.value}\"\n",
    "    \n",
    "obj = MyClass(40)\n",
    "print(obj)"
   ]
  },
  {
   "cell_type": "code",
   "execution_count": null,
   "id": "295eb056",
   "metadata": {},
   "outputs": [],
   "source": []
  }
 ],
 "metadata": {
  "kernelspec": {
   "display_name": "Python 3 (ipykernel)",
   "language": "python",
   "name": "python3"
  },
  "language_info": {
   "codemirror_mode": {
    "name": "ipython",
    "version": 3
   },
   "file_extension": ".py",
   "mimetype": "text/x-python",
   "name": "python",
   "nbconvert_exporter": "python",
   "pygments_lexer": "ipython3",
   "version": "3.11.2"
  }
 },
 "nbformat": 4,
 "nbformat_minor": 5
}
